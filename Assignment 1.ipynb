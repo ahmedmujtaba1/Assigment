{
 "cells": [
  {
   "cell_type": "code",
   "execution_count": 112,
   "id": "1bf7918d",
   "metadata": {},
   "outputs": [],
   "source": [
    "english = 88\n",
    "maths = 100\n",
    "science = 92\n",
    "urdu = 90\n",
    "islamiyat = 93"
   ]
  },
  {
   "cell_type": "code",
   "execution_count": 113,
   "id": "856bd466",
   "metadata": {},
   "outputs": [],
   "source": [
    "obtained_marks = english + maths + science + urdu + islamiyat "
   ]
  },
  {
   "cell_type": "code",
   "execution_count": 114,
   "id": "f76ebda9",
   "metadata": {},
   "outputs": [
    {
     "data": {
      "text/plain": [
       "463"
      ]
     },
     "execution_count": 114,
     "metadata": {},
     "output_type": "execute_result"
    }
   ],
   "source": [
    "obtained_marks"
   ]
  },
  {
   "cell_type": "code",
   "execution_count": 115,
   "id": "2a805c3a",
   "metadata": {},
   "outputs": [],
   "source": [
    "total_mark = 500"
   ]
  },
  {
   "cell_type": "code",
   "execution_count": 116,
   "id": "09cbc598",
   "metadata": {},
   "outputs": [],
   "source": [
    "percentage =  obtained_marks / 5 "
   ]
  },
  {
   "cell_type": "code",
   "execution_count": 122,
   "id": "5ecef2e8",
   "metadata": {},
   "outputs": [
    {
     "data": {
      "text/plain": [
       "92.6"
      ]
     },
     "execution_count": 122,
     "metadata": {},
     "output_type": "execute_result"
    }
   ],
   "source": [
    "percentage"
   ]
  },
  {
   "cell_type": "code",
   "execution_count": 126,
   "id": "6960199f",
   "metadata": {},
   "outputs": [
    {
     "name": "stdout",
     "output_type": "stream",
     "text": [
      "You got A*\n"
     ]
    }
   ],
   "source": [
    "percentage = 92.6\n",
    "if percentage>= 80:\n",
    "        print(\"You got A*\")\n",
    "elif percentage>=70 and percentage<=80 :\n",
    "       print(\"GRADE A\")\n",
    "elif percentage>=60 and percentage<=70 :\n",
    "       print(\"GRADE B\")\n",
    "elif percentage>=50 and percentage<=60 :\n",
    "       print(\"GRADE C\")\n",
    "elif percentage>=40 and percentage<=50 :\n",
    "      print(\"GRADE D\")\n",
    "else :\n",
    "      print(\"FAIL\")        "
   ]
  },
  {
   "cell_type": "code",
   "execution_count": null,
   "id": "bfe7f13d",
   "metadata": {},
   "outputs": [],
   "source": []
  }
 ],
 "metadata": {
  "kernelspec": {
   "display_name": "Python 3 (ipykernel)",
   "language": "python",
   "name": "python3"
  },
  "language_info": {
   "codemirror_mode": {
    "name": "ipython",
    "version": 3
   },
   "file_extension": ".py",
   "mimetype": "text/x-python",
   "name": "python",
   "nbconvert_exporter": "python",
   "pygments_lexer": "ipython3",
   "version": "3.9.12"
  }
 },
 "nbformat": 4,
 "nbformat_minor": 5
}

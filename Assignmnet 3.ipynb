{
 "cells": [
  {
   "cell_type": "markdown",
   "metadata": {},
   "source": [
    "# Assignment 3"
   ]
  },
  {
   "cell_type": "code",
   "execution_count": 34,
   "metadata": {},
   "outputs": [
    {
     "name": "stdout",
     "output_type": "stream",
     "text": [
      "Enter your gmail ID :ahmedmujtaba56@gmail.com\n",
      "Enter your password :1235fd\n",
      "Your id is valid\n",
      "your password is wrong\n"
     ]
    }
   ],
   "source": [
    "ids = ['hussnainharoon97@gmail.com', 'ahmedmujtaba56@gmail.com', 'saadmohsin12@gmail.com', 'khizranmohsin452@gmail.com']\n",
    "password = ['12345','123456', 'ahmed', 'hussnain', '67890']\n",
    "user_id = input(\"Enter your gmail ID :\")\n",
    "user_password = input(\"Enter your password :\")\n",
    "\n",
    "if user_id in ids:\n",
    "    print(\"Your id is valid\")\n",
    "    \n",
    "    if user_password in password:\n",
    "        print(\"Your password is valid\")\n",
    "        \n",
    "    else:\n",
    "        print(\"your password is wrong\")\n",
    "    \n",
    "else:\n",
    "    print(\"your id or is invalid\")"
   ]
  }
 ],
 "metadata": {
  "kernelspec": {
   "display_name": "Python 3",
   "language": "python",
   "name": "python3"
  },
  "language_info": {
   "codemirror_mode": {
    "name": "ipython",
    "version": 3
   },
   "file_extension": ".py",
   "mimetype": "text/x-python",
   "name": "python",
   "nbconvert_exporter": "python",
   "pygments_lexer": "ipython3",
   "version": "3.8.5"
  }
 },
 "nbformat": 4,
 "nbformat_minor": 4
}

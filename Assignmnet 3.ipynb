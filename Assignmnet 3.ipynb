{
 "cells": [
  {
   "cell_type": "markdown",
   "id": "2c701937",
   "metadata": {},
   "source": [
    "# Assignmnet 3"
   ]
  },
  {
   "cell_type": "code",
   "execution_count": 2,
   "id": "7ee7ca19",
   "metadata": {},
   "outputs": [
    {
     "name": "stdout",
     "output_type": "stream",
     "text": [
      "Enter your gmail ID :ahmedmujtaba56@gmail.com\n",
      "Enter your password :ahmed\n",
      "Your id is valid\n"
     ]
    }
   ],
   "source": [
    "ids = ['hussnainharoon97@gmail.com', 'ahmedmujtaba56@gmail.com', 'saadmohsin12@gmail.com', 'khizranmohsin452@gmail.com']\n",
    "user_id = input(\"Enter your gmail ID :\")\n",
    "user_password = input(\"Enter your password :\")\n",
    "\n",
    "if user_id in ids:\n",
    "    print(\"Your id is valid\")\n",
    "    \n",
    "else:\n",
    "    print(\"your id is invalid\")"
   ]
  },
  {
   "cell_type": "code",
   "execution_count": null,
   "id": "a11dc5e3",
   "metadata": {},
   "outputs": [],
   "source": []
  }
 ],
 "metadata": {
  "kernelspec": {
   "display_name": "Python 3 (ipykernel)",
   "language": "python",
   "name": "python3"
  },
  "language_info": {
   "codemirror_mode": {
    "name": "ipython",
    "version": 3
   },
   "file_extension": ".py",
   "mimetype": "text/x-python",
   "name": "python",
   "nbconvert_exporter": "python",
   "pygments_lexer": "ipython3",
   "version": "3.9.12"
  }
 },
 "nbformat": 4,
 "nbformat_minor": 5
}

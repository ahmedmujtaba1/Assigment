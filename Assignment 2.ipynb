{
 "cells": [
  {
   "cell_type": "code",
   "execution_count": 1,
   "metadata": {},
   "outputs": [
    {
     "name": "stdout",
     "output_type": "stream",
     "text": [
      "table x 1 = 2\n",
      "table x 2 = 4\n",
      "table x 3 = 6\n",
      "table x 4 = 8\n",
      "table x 5 = 10\n",
      "table x 6 = 12\n",
      "table x 7 = 14\n",
      "table x 8 = 16\n",
      "table x 9 = 18\n",
      "table x 10 = 20\n"
     ]
    }
   ],
   "source": [
    "table = 2\n",
    "\n",
    "\n",
    "\n",
    "\n",
    "for i in range(1,11):\n",
    "    print('table', 'x', i, '=', table * i)"
   ]
  },
  {
   "cell_type": "code",
   "execution_count": null,
   "metadata": {},
   "outputs": [],
   "source": []
  }
 ],
 "metadata": {
  "kernelspec": {
   "display_name": "Python 3",
   "language": "python",
   "name": "python3"
  },
  "language_info": {
   "codemirror_mode": {
    "name": "ipython",
    "version": 3
   },
   "file_extension": ".py",
   "mimetype": "text/x-python",
   "name": "python",
   "nbconvert_exporter": "python",
   "pygments_lexer": "ipython3",
   "version": "3.8.5"
  }
 },
 "nbformat": 4,
 "nbformat_minor": 4
}

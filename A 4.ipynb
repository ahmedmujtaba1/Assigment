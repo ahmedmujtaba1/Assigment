{
 "cells": [
  {
   "cell_type": "markdown",
   "id": "137c9bde",
   "metadata": {},
   "source": [
    "# Assignment # 4\n"
   ]
  },
  {
   "cell_type": "code",
   "execution_count": 1,
   "id": "9caba5ed",
   "metadata": {},
   "outputs": [
    {
     "name": "stdout",
     "output_type": "stream",
     "text": [
      "Enter your gmail ID :ahmedmujtaba56@gmail.com\n",
      "Enter your password :ahmed12345\n",
      "No capital letter in password\n"
     ]
    }
   ],
   "source": [
    "alphabet = ['A', 'B', 'C', 'D', 'E', 'F', 'G', 'H', 'I', 'J', 'K', 'L', 'M', 'N', 'O', 'P', 'Q', 'R', 'S', 'T', 'U', 'V', 'W', 'X', 'Y', 'Z']\n",
    "number = ['0', '1', '2', '3', '4', '5', '6', '7', '8', '9']\n",
    "ids = ['hussnainharoon97@gmail.com', 'ahmedmujtaba56@gmail.com', 'saadmohsin12@gmail.com', 'khizranmohsin452@gmail.com']\n",
    "password = ['Ahmed12345','bilal123456', 'ahmed123', 'hussnain098', 'huss67890']\n",
    "user_id = input(\"Enter your gmail ID :\")\n",
    "user_password = input(\"Enter your password :\")\n",
    "\n",
    "\n",
    "\n",
    "\n",
    "true = True\n",
    "num = True\n",
    "\n",
    "if user_id in ids:\n",
    "    for i in alphabet:\n",
    "        if i in user_password:\n",
    "            true = False\n",
    "            break\n",
    "   \n",
    "    for i in number:\n",
    "        if i in user_password:\n",
    "            num = False\n",
    "            break\n",
    "    if len(user_password) < 8:\n",
    "        print(' Your password should greater than 8 characters')\n",
    "    elif true:\n",
    "        print('No capital letter in password')\n",
    "    elif num:\n",
    "        print('No number in password')\n",
    "    else:\n",
    "        for x in range(len(ids)):\n",
    "            if user_email == ids[x] and user_password == password[x]:\n",
    "                print('succesfully loged in')\n",
    "                break\n",
    "            elif x == len(ids) - 1:\n",
    "                print('incorrect password')\n",
    "else:\n",
    "    if '@' not in user_id:\n",
    "        print('@ not present')\n",
    "    elif '.com' not in user_id:\n",
    "        print('.com not present')\n",
    "    elif not user_id.endswith('.com'):\n",
    "        print('email doesnot ends with .com')\n",
    "    else:\n",
    "        print('email not registered')"
   ]
  },
  {
   "cell_type": "code",
   "execution_count": null,
   "id": "f616f86b",
   "metadata": {},
   "outputs": [],
   "source": []
  }
 ],
 "metadata": {
  "kernelspec": {
   "display_name": "Python 3 (ipykernel)",
   "language": "python",
   "name": "python3"
  },
  "language_info": {
   "codemirror_mode": {
    "name": "ipython",
    "version": 3
   },
   "file_extension": ".py",
   "mimetype": "text/x-python",
   "name": "python",
   "nbconvert_exporter": "python",
   "pygments_lexer": "ipython3",
   "version": "3.9.12"
  }
 },
 "nbformat": 4,
 "nbformat_minor": 5
}

{
 "cells": [
  {
   "cell_type": "markdown",
   "id": "137c9bde",
   "metadata": {},
   "source": [
    "# Assignment # 4\n"
   ]
  },
  {
   "cell_type": "code",
   "execution_count": 14,
   "id": "1d8b8216",
   "metadata": {},
   "outputs": [
    {
     "name": "stdout",
     "output_type": "stream",
     "text": [
      "Enter your gmail ID :ahmedmujtaba56@gmail\n",
      "Enter your password :12345\n",
      "your id or is invalid\n"
     ]
    },
    {
     "data": {
      "text/plain": [
       "False"
      ]
     },
     "execution_count": 14,
     "metadata": {},
     "output_type": "execute_result"
    }
   ],
   "source": [
    "ids = ['hussnainharoon97@gmail.com', 'ahmedmujtaba56@gmail.com', 'saadmohsin12@gmail.com', 'khizranmohsin452@gmail.com']\n",
    "password = ['12345','123456', 'ahmed', 'hussnain', '67890']\n",
    "user_id = input(\"Enter your gmail ID :\")\n",
    "user_password = input(\"Enter your password :\")\n",
    "\n",
    "if user_id in ids:\n",
    "    print(\"Your id is valid\")\n",
    "    \n",
    "    if user_password in password:\n",
    "        print(\"Your password is valid\")\n",
    "        \n",
    "    else:\n",
    "        print(\"your password is wrong\")\n",
    "    \n",
    "else:\n",
    "    print(\"your id is invalid\")\n",
    "    \n",
    "\"@\" in user_id and \".com\" in user_id"
   ]
  },
  {
   "cell_type": "code",
   "execution_count": null,
   "id": "9caba5ed",
   "metadata": {},
   "outputs": [],
   "source": []
  }
 ],
 "metadata": {
  "kernelspec": {
   "display_name": "Python 3 (ipykernel)",
   "language": "python",
   "name": "python3"
  },
  "language_info": {
   "codemirror_mode": {
    "name": "ipython",
    "version": 3
   },
   "file_extension": ".py",
   "mimetype": "text/x-python",
   "name": "python",
   "nbconvert_exporter": "python",
   "pygments_lexer": "ipython3",
   "version": "3.9.12"
  }
 },
 "nbformat": 4,
 "nbformat_minor": 5
}
